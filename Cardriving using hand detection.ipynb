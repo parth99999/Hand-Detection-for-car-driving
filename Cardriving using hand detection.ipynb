{
 "cells": [
  {
   "cell_type": "code",
   "execution_count": 1,
   "metadata": {},
   "outputs": [],
   "source": [
    "import cv2 \n",
    "import numpy as np \n",
    "  \n",
    "\n",
    "\n",
    "hand_cascade = cv2.CascadeClassifier('hand.xml') "
   ]
  },
  {
   "cell_type": "code",
   "execution_count": 2,
   "metadata": {},
   "outputs": [],
   "source": [
    "cap = cv2.VideoCapture(0) \n",
    "count = 0\n",
    "\n",
    "while(True):\n",
    "    ret, frame = cap.read()\n",
    "    gray = cv2.cvtColor(frame, cv2.COLOR_BGR2GRAY)\n",
    "    hands = hand_cascade.detectMultiScale(gray, 1.5, 2)\n",
    "    contour = hands\n",
    "    contour = np.array(contour)\n",
    "\n",
    "    if count==0:\n",
    "\n",
    "        if len(contour)==2:\n",
    "            cv2.putText(img=frame, text='Your engine started', org=(int(100 / 2 - 20), int(100 / 2)),\n",
    "                        fontFace=cv2.FONT_HERSHEY_DUPLEX, fontScale=1,\n",
    "                        color=(0, 255, 0))\n",
    "            for (x, y, w, h) in hands:\n",
    "                cv2.rectangle(frame, (x, y), (x + w, y + h), (0, 255, 0), 2)\n",
    "\n",
    "    if count>0:\n",
    "\n",
    "        if len(contour)>=2:\n",
    "            cv2.putText(img=frame, text='You can take your car on long drive', org=(int(100 / 2 - 20), int(100 / 2)),\n",
    "                        fontFace=cv2.FONT_HERSHEY_DUPLEX, fontScale=1,\n",
    "                        color=(255, 0, 0))\n",
    "            for (x, y, w, h) in hands:\n",
    "                cv2.rectangle(frame, (x, y), (x + w, y + h), (0, 255, 0), 2)\n",
    "\n",
    "        elif len(contour)==1:\n",
    "            cv2.putText(img=frame, text='You can speed upto 80km/h', org=(int(100 / 2 - 20), int(100 / 2)),\n",
    "                        fontFace=cv2.FONT_HERSHEY_DUPLEX, fontScale=1,\n",
    "                        color=(0, 255, 0))\n",
    "            for (x, y, w, h) in hands:\n",
    "                cv2.rectangle(frame, (x, y), (x + w, y + h), (0, 255, 0), 2)\n",
    "\n",
    "        elif len(contour)==0:\n",
    "            cv2.putText(img=frame, text='Brake is applied slowly', org=(int(100 / 2 - 20), int(100 / 2)),\n",
    "                        fontFace=cv2.FONT_HERSHEY_DUPLEX, fontScale=1,\n",
    "                        color=(0, 0, 255))\n",
    "\n",
    "\n",
    "    count+=1\n",
    "\n",
    "    cv2.imshow('Driver_frame', frame)\n",
    "    key_pressed=cv2.waitKey(1)& 0xFF\n",
    "    if key_pressed==ord('q'):\n",
    "        \n",
    "        break\n",
    "\n",
    "cap.release()\n",
    "cv2.destroyAllWindows()\n",
    "\n"
   ]
  },
  {
   "cell_type": "code",
   "execution_count": null,
   "metadata": {},
   "outputs": [],
   "source": []
  }
 ],
 "metadata": {
  "kernelspec": {
   "display_name": "Python 3",
   "language": "python",
   "name": "python3"
  },
  "language_info": {
   "codemirror_mode": {
    "name": "ipython",
    "version": 3
   },
   "file_extension": ".py",
   "mimetype": "text/x-python",
   "name": "python",
   "nbconvert_exporter": "python",
   "pygments_lexer": "ipython3",
   "version": "3.7.3"
  }
 },
 "nbformat": 4,
 "nbformat_minor": 2
}
